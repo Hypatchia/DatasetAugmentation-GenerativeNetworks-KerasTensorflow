{
  "cells": [
    {
      "cell_type": "code",
      "execution_count": null,
      "metadata": {
        "id": "C1_3lBJ6dhsI"
      },
      "outputs": [],
      "source": [
        "# Necessary Imports\n",
        "import tensorflow as tf\n",
        "import numpy as np\n",
        "import matplotlib.pyplot as plt\n",
        "import os\n",
        "from tensorflow.keras.preprocessing.image import img_to_array, load_img\n",
        "import zipfile\n",
        "import shutil\n",
        "from google.colab import files # Case of Google Colab"
      ]
    },
    {
      "cell_type": "code",
      "execution_count": 2,
      "metadata": {
        "colab": {
          "base_uri": "https://localhost:8080/"
        },
        "id": "4tC9lo5e3jdy",
        "outputId": "277b4f06-7dc4-4e92-d6a1-bd97ac7475b6"
      },
      "outputs": [
        {
          "name": "stdout",
          "output_type": "stream",
          "text": [
            "Downloading...\n",
            "From: https://drive.google.com/uc?id=1f-TTbbRTTb3RJRxCIZdjJCjtyh67TMDL\n",
            "To: /content/TuberculosisDataset.zip\n",
            "100% 99.8M/99.8M [00:00<00:00, 172MB/s]\n"
          ]
        }
      ],
      "source": [
        "# Download dataset from drive case of Google Colab\n",
        "!gdown \"ID\""
      ]
    },
    {
      "cell_type": "code",
      "execution_count": 3,
      "metadata": {
        "id": "a4UKKa_Bs-fZ"
      },
      "outputs": [],
      "source": [
        "# Enable mixed precision training which uses float16 for training\n",
        "policy = tf.keras.mixed_precision.Policy('mixed_float16')\n",
        "tf.keras.mixed_precision.set_global_policy(policy)"
      ]
    },
    {
      "cell_type": "code",
      "execution_count": 4,
      "metadata": {
        "id": "dcqp-coN3pv4"
      },
      "outputs": [],
      "source": [
        "def extract_dataset(dataset_file_path, extraction_path):\n",
        "    \"\"\"\n",
        "    Extracts a zipped dataset to a specified extraction path.\n",
        "\n",
        "    Parameters:\n",
        "    - dataset_file_path (str): Path to the zipped dataset file.\n",
        "    - extraction_path (str): Directory where the images will be extracted.\n",
        "\n",
        "    Returns:\n",
        "    None\n",
        "\n",
        "    \"\"\"\n",
        "    # Create the extraction directory if it doesn't exist\n",
        "    os.makedirs(extraction_path, exist_ok=True)\n",
        "\n",
        "    # Extract the zipped dataset\n",
        "    with zipfile.ZipFile(dataset_file_path, 'r') as zip_ref:\n",
        "        zip_ref.extractall(extraction_path)\n",
        "        \n",
        "\n"
      ]
    },
    {
      "cell_type": "code",
      "execution_count": null,
      "metadata": {},
      "outputs": [],
      "source": [
        "# Path to the dataset zip file\n",
        "dataset_file_path = '/content/TuberculosisDataset.zip'\n",
        "extraction_path = '/content/'\n"
      ]
    },
    {
      "cell_type": "code",
      "execution_count": null,
      "metadata": {},
      "outputs": [],
      "source": [
        "# Extract the dataset\n",
        "extract_dataset(dataset_file_path, extraction_path)"
      ]
    },
    {
      "cell_type": "code",
      "execution_count": 5,
      "metadata": {
        "id": "1Lnb77jJlj2d"
      },
      "outputs": [],
      "source": [
        "# Set dataset Directory\n",
        "Dataset_dir = '/content/Tuberculosis/'"
      ]
    },
    {
      "cell_type": "code",
      "execution_count": 6,
      "metadata": {
        "id": "GIjp8RYwefYP"
      },
      "outputs": [],
      "source": [
        "# Set dataset information\n",
        "img_shape=(64,64)\n",
        "batch_size=16\n",
        "# Get image paths from dataset directory\n",
        "img_paths = [os.path.join(Dataset_dir, img) for img in os.listdir(Dataset_dir)]"
      ]
    },
    {
      "cell_type": "code",
      "execution_count": null,
      "metadata": {},
      "outputs": [],
      "source": [
        "def preprocess_image(img_path, img_shape):\n",
        "    \"\"\"\n",
        "    Preprocesses an image by loading it, converting it to a grayscale array,\n",
        "    and normalizing pixel values to the range [0, 1].\n",
        "\n",
        "    Parameters:\n",
        "    - img_path (str): Path to the image file.\n",
        "    - img_shape (tuple): Target size of the image (default is (224, 224)).\n",
        "\n",
        "    Returns:\n",
        "    - img_array (numpy.ndarray): Preprocessed image as a NumPy array.\n",
        "    \"\"\"\n",
        "    # Load the image\n",
        "    img = load_img(img_path, color_mode='grayscale', target_size=img_shape)\n",
        "\n",
        "    # Convert the image to a NumPy array\n",
        "    img_array = img_to_array(img)\n",
        "\n",
        "    # Normalize pixel values to the range [0, 1]\n",
        "    img_array /= 255.0\n",
        "\n",
        "    return img_array"
      ]
    },
    {
      "cell_type": "code",
      "execution_count": null,
      "metadata": {},
      "outputs": [],
      "source": [
        "import tensorflow as tf\n",
        "\n",
        "def create_tf_dataset(img_paths, batch_size, img_shape):\n",
        "    \"\"\"\n",
        "    Creates a TensorFlow dataset from a list of image paths.\n",
        "\n",
        "    Parameters:\n",
        "    - img_paths (list): List of file paths to the images.\n",
        "    - batch_size (int): Batch size for the dataset (default is 16).\n",
        "    - img_shape (tuple): Target size of the images (default is (224, 224)).\n",
        "\n",
        "    Returns:\n",
        "    - dataset (tf.data.Dataset): Configured TensorFlow dataset.\n",
        "    \"\"\"\n",
        "    # Create a TensorFlow Dataset from image paths\n",
        "    dataset = tf.data.Dataset.from_tensor_slices(img_paths)\n",
        "\n",
        "    # Map the preprocess_image function to each element in the dataset\n",
        "    dataset = dataset.map(lambda x: tf.numpy_function(preprocess_image, [x, img_shape], tf.float32))\n",
        "\n",
        "    # Specify batch size and shuffle\n",
        "    dataset = dataset.shuffle(len(img_paths)).batch(batch_size)\n",
        "\n",
        "    # Adjust the shape of the elements in the dataset\n",
        "    dataset = dataset.map(lambda x: tf.reshape(x, (-1,) + img_shape + (1,)))\n",
        "\n",
        "    # Prefetch for better performance\n",
        "    dataset = dataset.prefetch(buffer_size=tf.data.experimental.AUTOTUNE)\n",
        "\n",
        "    return dataset\n"
      ]
    },
    {
      "cell_type": "code",
      "execution_count": null,
      "metadata": {},
      "outputs": [],
      "source": [
        "# Create a TensorFlow dataset\n",
        "dataset = create_tf_dataset(img_paths, batch_size, img_shape)\n"
      ]
    },
    {
      "cell_type": "code",
      "execution_count": null,
      "metadata": {
        "id": "Og_ygby7-x0Q"
      },
      "outputs": [],
      "source": [
        "# Visualize a batch of images\n",
        "def visualize_batch(dataset):\n",
        "    \"\"\"\n",
        "    Visualizes a batch of images from a TensorFlow dataset.\n",
        "\n",
        "    Parameters:\n",
        "    - dataset (tf.data.Dataset): TensorFlow dataset containing images.\n",
        "\n",
        "    Returns:\n",
        "    None\n",
        "    \"\"\"\n",
        "    # Get a batch of images\n",
        "    img_batch = next(iter(dataset))\n",
        "\n",
        "    # Plot the images\n",
        "    fig, axes = plt.subplots(nrows=4, ncols=4, figsize=(10, 10))\n",
        "    for i, ax in enumerate(axes.flat):\n",
        "        ax.imshow(img_batch[i].numpy().squeeze(), cmap='gray')\n",
        "        ax.axis('off')\n",
        "\n",
        "    plt.tight_layout()\n",
        "    plt.show()"
      ]
    },
    {
      "cell_type": "code",
      "execution_count": 39,
      "metadata": {
        "id": "cJt-NUQAdhtZ"
      },
      "outputs": [],
      "source": [
        "def Generator():\n",
        "    \"\"\"\n",
        "    Generator model for generating images using a deep convolutional neural network.\n",
        "\n",
        "    Returns:\n",
        "    tf.keras.Sequential: A Sequential model representing the generator.\n",
        "    \"\"\"\n",
        "    # Define the generator model using Keras Sequential API\n",
        "    model = tf.keras.Sequential([\n",
        "        tf.keras.layers.Dense(4 * 4 * 64, input_shape=(50,)),  # Dense layer with 4x4x64 units\n",
        "        tf.keras.layers.Reshape((4, 4, 64)),  # Reshape to 4x4x64 tensor\n",
        "        tf.keras.layers.LeakyReLU(alpha=0.2),  # Apply Leaky ReLU activation with slope 0.2\n",
        "        tf.keras.layers.Dropout(0.3), # Apply dropout rate of 0.3\n",
        "\n",
        "        # First convolutional transpose layer\n",
        "        tf.keras.layers.Conv2DTranspose(filters=512, kernel_size=(4, 4), strides=(2, 2), padding='same'),\n",
        "        tf.keras.layers.LeakyReLU(alpha=0.2),  # Apply Leaky ReLU activation with slope 0.2\n",
        "        tf.keras.layers.Dropout(0.3), # Apply dropout rate of 0.3\n",
        "\n",
        "        # Second convolutional transpose layer\n",
        "        tf.keras.layers.Conv2DTranspose(filters=256, kernel_size=(4, 4), strides=(2, 2), padding='same'),\n",
        "        tf.keras.layers.LeakyReLU(alpha=0.2),  # Apply Leaky ReLU activation with slope 0.2\n",
        "        tf.keras.layers.Dropout(0.3), # Apply dropout rate of 0.3\n",
        "\n",
        "        # Third convolutional transpose layer\n",
        "        tf.keras.layers.Conv2DTranspose(filters=128, kernel_size=(4, 4), strides=(2, 2), padding='same'),\n",
        "        tf.keras.layers.LeakyReLU(alpha=0.2),  # Apply Leaky ReLU activation with slope 0.2\n",
        "        tf.keras.layers.Dropout(0.3), # Apply dropout rate of 0.3\n",
        "\n",
        "        # Fourth convolutional transpose layer\n",
        "        tf.keras.layers.Conv2DTranspose(filters=64, kernel_size=(4, 4), strides=(2, 2), padding='same'),\n",
        "        tf.keras.layers.LeakyReLU(alpha=0.2),  # Apply Leaky ReLU activation with slope 0.2\n",
        "        tf.keras.layers.Dropout(0.3), # Apply dropout rate of 0.3\n",
        "\n",
        "        # Output layer\n",
        "        tf.keras.layers.Conv2DTranspose(filters=1, kernel_size=(4, 4), strides=(1, 1), padding='same', activation='tanh')\n",
        "    ], name=\"Generator\")\n",
        "\n",
        "    print(model.output_shape)  # Print the output shape of the generator model\n",
        "    return model"
      ]
    },
    {
      "cell_type": "code",
      "execution_count": 40,
      "metadata": {
        "colab": {
          "base_uri": "https://localhost:8080/"
        },
        "id": "uat01tjLvsya",
        "outputId": "278c1bdb-bb75-40f7-be07-ea8d9a17c397"
      },
      "outputs": [
        {
          "name": "stdout",
          "output_type": "stream",
          "text": [
            "(None, 64, 64, 1)\n"
          ]
        }
      ],
      "source": [
        "# Create the generator\n",
        "generator = Generator()"
      ]
    },
    {
      "cell_type": "code",
      "execution_count": 41,
      "metadata": {
        "id": "5dWNIiZgwMDT"
      },
      "outputs": [],
      "source": [
        "def Discriminator(input_shape=(64, 64, 1)):\n",
        "    \"\"\"\n",
        "    Discriminator model for classifying images as real or fake.\n",
        "\n",
        "    Parameters:\n",
        "    input_shape (tuple): The shape of the input images. Default is (64, 64, 1).\n",
        "\n",
        "    Returns:\n",
        "    tf.keras.Sequential: A Sequential model representing the discriminator.\n",
        "    \"\"\"\n",
        "\n",
        "    # Define the discriminator model using Keras Sequential API\n",
        "    model = tf.keras.Sequential([\n",
        "        tf.keras.layers.Conv2D(filters=512, kernel_size=(4, 4), strides=(2, 2), padding='same', input_shape=input_shape),\n",
        "        tf.keras.layers.LeakyReLU(alpha=0.2),  # Apply Leaky ReLU activation with slope 0.2\n",
        "        tf.keras.layers.Dropout(0.3), # Apply dropout rate of 0.3\n",
        "\n",
        "\n",
        "        tf.keras.layers.Conv2D(filters=256, kernel_size=(4, 4), strides=(2, 2), padding='same'),\n",
        "        tf.keras.layers.LeakyReLU(alpha=0.2),  # Apply Leaky ReLU activation with slope 0.2\n",
        "        tf.keras.layers.Dropout(0.3), # Apply dropout rate of 0.3\n",
        "\n",
        "\n",
        "        tf.keras.layers.Conv2D(filters=128, kernel_size=(4, 4), strides=(2, 2), padding='same'),\n",
        "        tf.keras.layers.LeakyReLU(alpha=0.2),  # Apply Leaky ReLU activation with slope 0.2\n",
        "        tf.keras.layers.Dropout(0.3), # Apply dropout rate of 0.3\n",
        "\n",
        "        \n",
        "        tf.keras.layers.Conv2D(filters=64, kernel_size=(4, 4), strides=(2, 2), padding='same'),\n",
        "        tf.keras.layers.LeakyReLU(alpha=0.2),  # Apply Leaky ReLU activation with slope 0.2\n",
        "        tf.keras.layers.Dropout(0.3), # Apply dropout rate of 0.3\n",
        "\n",
        "\n",
        "\n",
        "        tf.keras.layers.Flatten(),  # Flatten the output tensor\n",
        "        tf.keras.layers.Dense(1, activation='sigmoid'),  # Output layer with sigmoid activation\n",
        "    ], name=\"Discriminator\")\n",
        "\n",
        "    return model\n",
        "\n"
      ]
    },
    {
      "cell_type": "code",
      "execution_count": 42,
      "metadata": {
        "id": "I0thmUolYoOw"
      },
      "outputs": [],
      "source": [
        "# Create the discriminator\n",
        "discriminator = Discriminator()"
      ]
    },
    {
      "cell_type": "code",
      "execution_count": 43,
      "metadata": {
        "id": "3qSQK3DIxHvB"
      },
      "outputs": [],
      "source": [
        "# Get cross entropy loss function\n",
        "cross_entropy = tf.keras.losses.BinaryCrossentropy()"
      ]
    },
    {
      "cell_type": "code",
      "execution_count": null,
      "metadata": {},
      "outputs": [],
      "source": [
        "def log_losses(epoch, gen_loss, disc_loss):\n",
        "    \"\"\"\n",
        "    Log generator and discriminator losses for a given epoch.\n",
        "\n",
        "    Parameters:\n",
        "        epoch (int): The current training epoch.\n",
        "        gen_loss (tf.Tensor): Generator loss for the epoch.\n",
        "        disc_loss (tf.Tensor): Discriminator loss for the epoch.\n",
        "    \"\"\"\n",
        "    # Print the formatted log message containing epoch, generator loss, and discriminator loss.\n",
        "    print(f\"Epoch {epoch}, Generator Loss: {gen_loss.numpy()}, Discriminator Loss: {disc_loss.numpy()}\")\n"
      ]
    },
    {
      "cell_type": "code",
      "execution_count": 44,
      "metadata": {
        "id": "JuSSvQryxJnb"
      },
      "outputs": [],
      "source": [
        "# Define discriminator loss function\n",
        "def discriminator_loss(real_output, fake_output):\n",
        "    \"\"\"\n",
        "    Calculates the total discriminator loss using binary cross-entropy.\n",
        "\n",
        "    Parameters:\n",
        "    real_output (tf.Tensor): Output from the discriminator for real images.\n",
        "    fake_output (tf.Tensor): Output from the discriminator for fake (generated) images.\n",
        "\n",
        "    Returns:\n",
        "    tf.Tensor: Total discriminator loss.\n",
        "    \"\"\"\n",
        "\n",
        "    # Binary cross-entropy loss for real and fake samples\n",
        "    real_loss = cross_entropy(tf.ones_like(real_output), real_output)\n",
        "    fake_loss = cross_entropy(tf.zeros_like(fake_output), fake_output)\n",
        "\n",
        "    # Total discriminator loss is the sum of real and fake losses\n",
        "    total_loss = real_loss + fake_loss\n",
        "\n",
        "    return total_loss\n"
      ]
    },
    {
      "cell_type": "code",
      "execution_count": 45,
      "metadata": {
        "id": "oEscFy6lxLvd"
      },
      "outputs": [],
      "source": [
        "# Define generator loss function\n",
        "def generator_loss(fake_output):\n",
        "    \"\"\"\n",
        "    Calculates the generator loss using binary cross-entropy.\n",
        "\n",
        "    Parameters:\n",
        "    fake_output (tf.Tensor): Output from the discriminator for fake (generated) images.\n",
        "\n",
        "    Returns:\n",
        "    tf.Tensor: Generator loss.\n",
        "    \"\"\"\n",
        "\n",
        "    # Binary cross-entropy loss for generated samples\n",
        "    loss = cross_entropy(tf.ones_like(fake_output), fake_output)\n",
        "\n",
        "    return loss\n"
      ]
    },
    {
      "cell_type": "code",
      "execution_count": 46,
      "metadata": {
        "id": "TjJlQikgxaY_"
      },
      "outputs": [],
      "source": [
        "# Define the optimizers\n",
        "generator_optimizer = tf.keras.optimizers.Adam(1e-5)\n",
        "discriminator_optimizer = tf.keras.optimizers.Adam(1e-5)"
      ]
    },
    {
      "cell_type": "code",
      "execution_count": 47,
      "metadata": {
        "id": "FO2qtosZxir1"
      },
      "outputs": [],
      "source": [
        "# Set training parameters\n",
        "EPOCHS = 2000\n",
        "noise_dim = 50\n",
        "num_examples_to_generate = 8\n",
        "BUFFER_SIZE = 600000\n",
        "batch_size = 64\n"
      ]
    },
    {
      "cell_type": "code",
      "execution_count": null,
      "metadata": {},
      "outputs": [],
      "source": [
        "# You will reuse this seed overtime (so it's easier)\n",
        "# to visualize progress in the animated GIF)\n",
        "seed = tf.random.normal([num_examples_to_generate, noise_dim])"
      ]
    },
    {
      "cell_type": "code",
      "execution_count": 49,
      "metadata": {
        "id": "mVAq7iIVxmIF"
      },
      "outputs": [],
      "source": [
        "# Notice the use of `tf.function`\n",
        "# This annotation causes the function to be \"compiled\".\n",
        "@tf.function\n",
        "def train_step(images):\n",
        "    \"\"\"\n",
        "    Executes a single training step for the Generative Adversarial Network (GAN).\n",
        "\n",
        "    Parameters:\n",
        "    images (tf.Tensor): A batch of real images used for training.\n",
        "\n",
        "    Returns:\n",
        "    None\n",
        "    \"\"\"\n",
        "\n",
        "    # Generate random noise for the generator input\n",
        "    noise = tf.random.normal([batch_size, noise_dim])\n",
        "\n",
        "    # Use GradientTape to record operations for automatic differentiation\n",
        "    with tf.GradientTape() as gen_tape, tf.GradientTape() as disc_tape:\n",
        "        # Generate fake images using the generator\n",
        "        generated_images = generator(noise, training=True)\n",
        "\n",
        "        # Get discriminator outputs for real and fake images\n",
        "        real_output = discriminator(images, training=True)\n",
        "        fake_output = discriminator(generated_images, training=True)\n",
        "\n",
        "        # Calculate generator and discriminator losses\n",
        "        gen_loss = generator_loss(fake_output)\n",
        "        disc_loss = discriminator_loss(real_output, fake_output)\n",
        "\n",
        "    # Compute gradients of generator and discriminator with respect to their parameters\n",
        "    gradients_of_generator = gen_tape.gradient(gen_loss, generator.trainable_variables)\n",
        "    gradients_of_discriminator = disc_tape.gradient(disc_loss, discriminator.trainable_variables)\n",
        "\n",
        "    # Apply the gradients to update the generator and discriminator weights\n",
        "    generator_optimizer.apply_gradients(zip(gradients_of_generator, generator.trainable_variables))\n",
        "    discriminator_optimizer.apply_gradients(zip(gradients_of_discriminator, discriminator.trainable_variables))\n",
        "    \n",
        "    return gen_loss, disc_loss\n"
      ]
    },
    {
      "cell_type": "code",
      "execution_count": null,
      "metadata": {},
      "outputs": [],
      "source": [
        "def generate_and_save_images(model, epoch, test_input, save_dir='images'):\n",
        "    \"\"\"\n",
        "    Generates and saves images using the provided generator model.\n",
        "\n",
        "    Parameters:\n",
        "    model (tf.keras.Model): The generator model used for generating images.\n",
        "    epoch (int): The current training epoch.\n",
        "    test_input (tf.Tensor): Random noise used as input for image generation.\n",
        "    save_dir (str): The directory where generated images will be saved. Defaults to 'images'.\n",
        "\n",
        "    Returns:\n",
        "    None\n",
        "    \"\"\"\n",
        "\n",
        "    # Notice `training` is set to False.\n",
        "    # This is so all layers run in inference mode (batchnorm).\n",
        "    predictions = model(test_input, training=False)\n",
        "\n",
        "    # Create the directory if it doesn't exist\n",
        "    if not os.path.exists(save_dir):\n",
        "        os.makedirs(save_dir)\n",
        "\n",
        "    # Create a subplot grid for visualizing generated images\n",
        "    fig, axs = plt.subplots(2, 4, figsize=(16, 16))\n",
        "    axs = axs.flatten()\n",
        "\n",
        "    # Display each generated image in the subplot grid\n",
        "    for i in range(predictions.shape[0]):\n",
        "        axs[i].imshow(predictions[i, :, :, 0] * 127.5 + 127.5, cmap=\"gray\")\n",
        "        axs[i].axis('off')\n",
        "\n",
        "    print(\"epoch:\", epoch)\n",
        "\n",
        "    # Save the figure to the specified directory\n",
        "    file_path = os.path.join(save_dir, 'image_at_epoch_{:04d}.png'.format(epoch))\n",
        "    plt.savefig(file_path)\n",
        "\n",
        "    # Close the figure without displaying it\n",
        "    plt.close(fig)\n"
      ]
    },
    {
      "cell_type": "code",
      "execution_count": 50,
      "metadata": {
        "id": "k-d96SVhz2I8"
      },
      "outputs": [],
      "source": [
        "def train(dataset, epochs):\n",
        "    \"\"\"\n",
        "    Trains the Generative Adversarial Network (GAN) for the specified number of epochs.\n",
        "\n",
        "    Parameters:\n",
        "    dataset (tf.data.Dataset): The training dataset containing batches of real images.\n",
        "    epochs (int): The number of training epochs.\n",
        "\n",
        "    Returns:\n",
        "    None\n",
        "    \"\"\"\n",
        "\n",
        "    # Iterate through each epoch\n",
        "    for epoch in range(epochs):\n",
        "\n",
        "        # Iterate through each batch in the dataset\n",
        "        for image_batch in dataset:\n",
        "            train_step(image_batch)  # Execute a single training step\n",
        "\n",
        "        # Generate and save sample images at the end of each epoch\n",
        "        generate_and_save_images(generator, epoch + 1, seed)\n",
        "\n",
        "    # Generate and save sample images after the final epoch\n",
        "    generate_and_save_images(generator, epochs, seed)\n"
      ]
    },
    {
      "cell_type": "code",
      "execution_count": 51,
      "metadata": {
        "id": "wcfmPh2-xyew"
      },
      "outputs": [],
      "source": [
        "# Train the model\n",
        "train(dataset, EPOCHS)"
      ]
    },
    {
      "cell_type": "code",
      "execution_count": null,
      "metadata": {},
      "outputs": [],
      "source": [
        "# Zip the directory of generated images\n",
        "zip_filename = 'images'\n",
        "shutil.make_archive(zip_filename, 'zip', 'images')"
      ]
    },
    {
      "cell_type": "code",
      "execution_count": null,
      "metadata": {},
      "outputs": [],
      "source": [
        "# Download the zipped directory to local storage\n",
        "files.download(\"/content/images.zip\")"
      ]
    },
    {
      "cell_type": "code",
      "execution_count": null,
      "metadata": {},
      "outputs": [],
      "source": [
        "def generate_and_save_images(generator, save_dir, num_images=2800,noise_dim=50):\n",
        "    \n",
        "    noise = tf.random.normal([num_images, noise_dim])\n",
        "    generated_images = generator(noise, training=False)\n",
        "\n",
        "    os.makedirs(save_dir, exist_ok=True)\n",
        "\n",
        "    rows, cols = int(num_images**0.5), int(num_images**0.5) + 1\n",
        "    while rows * cols < num_images:\n",
        "        cols += 1\n",
        "\n",
        "    plt.figure(figsize=(15, 15))\n",
        "    for i in range(num_images):\n",
        "        plt.subplot(rows, cols, i + 1)\n",
        "        plt.imshow(generated_images[i, :, :, 0], cmap='gray')\n",
        "        plt.axis('off')\n",
        "        image_path = os.path.join(save_dir, f'generated_image_{i}.png')\n",
        "        plt.imsave(image_path, generated_images[i, :, :, 0].numpy(), cmap='gray')\n",
        "\n",
        "    plt.close()\n",
        "\n",
        "    return save_dir, num_images"
      ]
    },
    {
      "cell_type": "code",
      "execution_count": null,
      "metadata": {},
      "outputs": [],
      "source": [
        "# Generate and save images    \n",
        "save_dir = 'content/Generated'\n",
        "generate_and_save_images(generator,discriminator,save_dir,2800,noise_dim)"
      ]
    },
    {
      "cell_type": "code",
      "execution_count": null,
      "metadata": {},
      "outputs": [],
      "source": [
        "# Save Generator & Discriminator models\n",
        "\n",
        "generator.save('Generator')\n",
        "discriminator.save('Generator')\n"
      ]
    },
    {
      "cell_type": "code",
      "execution_count": null,
      "metadata": {
        "colab": {
          "base_uri": "https://localhost:8080/",
          "height": 36
        },
        "id": "KMZRwzVhJZcR",
        "outputId": "a1eb446e-493e-44fb-e898-fdd6c945b253"
      },
      "outputs": [],
      "source": [
        "# Zip & Download the models\n",
        "zip_filename = 'Generator'\n",
        "shutil.make_archive(zip_filename, 'zip', 'Generator')\n",
        "\n",
        "zip_filename = 'Discriminator'\n",
        "shutil.make_archive(zip_filename, 'zip', 'Discriminator')\n"
      ]
    }
  ],
  "metadata": {
    "accelerator": "GPU",
    "colab": {
      "gpuType": "T4",
      "provenance": []
    },
    "kernelspec": {
      "display_name": "Python 3",
      "name": "python3"
    },
    "language_info": {
      "codemirror_mode": {
        "name": "ipython",
        "version": 3
      },
      "file_extension": ".py",
      "mimetype": "text/x-python",
      "name": "python",
      "nbconvert_exporter": "python",
      "pygments_lexer": "ipython3",
      "version": "3.10.9"
    },
    "vscode": {
      "interpreter": {
        "hash": "b7017eaa3a1146aa3353aaf1d457acd0d42a48245368b654c92322235b5e5999"
      }
    }
  },
  "nbformat": 4,
  "nbformat_minor": 0
}
